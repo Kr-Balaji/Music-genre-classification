{
  "nbformat": 4,
  "nbformat_minor": 0,
  "metadata": {
    "colab": {
      "provenance": [],
      "collapsed_sections": [],
      "authorship_tag": "ABX9TyPwIgGHdI4av6Yp28HWj2sV",
      "include_colab_link": true
    },
    "kernelspec": {
      "name": "python3",
      "display_name": "Python 3"
    },
    "language_info": {
      "name": "python"
    },
    "accelerator": "GPU"
  },
  "cells": [
    {
      "cell_type": "markdown",
      "metadata": {
        "id": "view-in-github",
        "colab_type": "text"
      },
      "source": [
        "<a href=\"https://colab.research.google.com/github/Kr-Balaji/Music-genre-classification/blob/main/Music_Genre_Classification.ipynb\" target=\"_parent\"><img src=\"https://colab.research.google.com/assets/colab-badge.svg\" alt=\"Open In Colab\"/></a>"
      ]
    },
    {
      "cell_type": "code",
      "execution_count": null,
      "metadata": {
        "id": "2fXBK2QS51YF"
      },
      "outputs": [],
      "source": [
        "import json\n",
        "import numpy as np\n",
        "from sklearn.model_selection import train_test_split\n",
        "import tensorflow.keras as keras\n",
        "import matplotlib.pyplot as plt"
      ]
    },
    {
      "cell_type": "code",
      "source": [
        "from google.colab import drive\n",
        "drive.mount('/content/drive')"
      ],
      "metadata": {
        "colab": {
          "base_uri": "https://localhost:8080/"
        },
        "id": "r8h8AzISG6Eo",
        "outputId": "d283aa2f-7e07-4bb7-9045-8c5bbdaa6563"
      },
      "execution_count": null,
      "outputs": [
        {
          "output_type": "stream",
          "name": "stdout",
          "text": [
            "Mounted at /content/drive\n"
          ]
        }
      ]
    },
    {
      "cell_type": "code",
      "source": [
        "DATA_PATH = \"/content/drive/MyDrive/genres/data_10.json\""
      ],
      "metadata": {
        "id": "1e1rHIIK6ANe"
      },
      "execution_count": null,
      "outputs": []
    },
    {
      "cell_type": "code",
      "source": [
        "def load_data(data_path):\n",
        "  \n",
        "\n",
        "    with open(data_path, \"r\") as fp:\n",
        "        data = json.load(fp)\n",
        "\n",
        "    X = np.array(data[\"mfcc\"])\n",
        "    y = np.array(data[\"labels\"])\n",
        "    return X, y\n"
      ],
      "metadata": {
        "id": "C6EFBiwx9GRz"
      },
      "execution_count": null,
      "outputs": []
    },
    {
      "cell_type": "code",
      "source": [
        "def plot_history(history):\n",
        "\n",
        "\n",
        "    fig, axs = plt.subplots(2)\n",
        "\n",
        "    axs[0].plot(history.history[\"accuracy\"], label=\"train accuracy\")\n",
        "    axs[0].plot(history.history[\"val_accuracy\"], label=\"test accuracy\")\n",
        "    axs[0].set_ylabel(\"Accuracy\")\n",
        "    axs[0].legend(loc=\"lower right\")\n",
        "    axs[0].set_title(\"Accuracy eval\")\n",
        "\n",
        "    axs[1].plot(history.history[\"loss\"], label=\"train error\")\n",
        "    axs[1].plot(history.history[\"val_loss\"], label=\"test error\")\n",
        "    axs[1].set_ylabel(\"Error\")\n",
        "    axs[1].set_xlabel(\"Epoch\")\n",
        "    axs[1].legend(loc=\"upper right\")\n",
        "    axs[1].set_title(\"Error eval\")\n",
        "\n",
        "    plt.show()\n"
      ],
      "metadata": {
        "id": "3SKOm8u-9Hcc"
      },
      "execution_count": null,
      "outputs": []
    },
    {
      "cell_type": "code",
      "source": [
        "def prepare_datasets(test_size, validation_size):\n",
        "    \n",
        "    X, y = load_data(DATA_PATH)\n",
        "\n",
        "    X_train, X_test, y_train, y_test = train_test_split(X, y, test_size=test_size)\n",
        "    X_train, X_validation, y_train, y_validation = train_test_split(X_train, y_train, test_size=validation_size)\n",
        "\n",
        "    return X_train, X_validation, X_test, y_train, y_validation, y_test\n",
        "\n"
      ],
      "metadata": {
        "id": "oZIhWT0U9KAc"
      },
      "execution_count": null,
      "outputs": []
    },
    {
      "cell_type": "code",
      "source": [
        "def build_model(input_shape):\n",
        "    \n",
        "\n",
        "    \n",
        "    model = keras.Sequential()\n",
        "\n",
        "    \n",
        "    model.add(keras.layers.LSTM(64, input_shape=input_shape, return_sequences=True))\n",
        "    model.add(keras.layers.LSTM(64))\n",
        "\n",
        "    model.add(keras.layers.Dense(64, activation='relu'))\n",
        "    model.add(keras.layers.Dropout(0.3))\n",
        "\n",
        "    model.add(keras.layers.Dense(10, activation='softmax'))\n",
        "\n",
        "    return model\n",
        "\n"
      ],
      "metadata": {
        "id": "BpmsaX1j9Mms"
      },
      "execution_count": null,
      "outputs": []
    },
    {
      "cell_type": "code",
      "source": [
        "    X_train, X_validation, X_test, y_train, y_validation, y_test = prepare_datasets(0.25, 0.2)\n",
        "\n",
        "\n",
        "    input_shape = (X_train.shape[1], X_train.shape[2]) # 130, 13\n",
        "    model = build_model(input_shape)\n",
        "\n",
        " \n",
        "    optimiser = keras.optimizers.Adam(learning_rate=0.0001)\n",
        "    model.compile(optimizer=optimiser,\n",
        "                  loss='sparse_categorical_crossentropy',\n",
        "                  metrics=['accuracy'])\n",
        "\n",
        "    model.summary()\n",
        "\n",
        "\n",
        "    history = model.fit(X_train, y_train, validation_data=(X_validation, y_validation), batch_size=32, epochs=30)\n",
        "\n",
        "\n",
        "    plot_history(history)\n",
        "\n",
        "    test_loss, test_acc = model.evaluate(X_test, y_test, verbose=2)\n",
        "    print('\\nTest accuracy:', test_acc)"
      ],
      "metadata": {
        "colab": {
          "base_uri": "https://localhost:8080/",
          "height": 1000
        },
        "id": "5lqmlElB9Pj7",
        "outputId": "751c5fbd-dd5a-49bd-b0d4-d8a4f9054049"
      },
      "execution_count": null,
      "outputs": [
        {
          "output_type": "stream",
          "name": "stdout",
          "text": [
            "Model: \"sequential\"\n",
            "_________________________________________________________________\n",
            " Layer (type)                Output Shape              Param #   \n",
            "=================================================================\n",
            " lstm (LSTM)                 (None, 130, 64)           19968     \n",
            "                                                                 \n",
            " lstm_1 (LSTM)               (None, 64)                33024     \n",
            "                                                                 \n",
            " dense (Dense)               (None, 64)                4160      \n",
            "                                                                 \n",
            " dropout (Dropout)           (None, 64)                0         \n",
            "                                                                 \n",
            " dense_1 (Dense)             (None, 10)                650       \n",
            "                                                                 \n",
            "=================================================================\n",
            "Total params: 57,802\n",
            "Trainable params: 57,802\n",
            "Non-trainable params: 0\n",
            "_________________________________________________________________\n",
            "Epoch 1/30\n",
            "188/188 [==============================] - 21s 69ms/step - loss: 2.2020 - accuracy: 0.1926 - val_loss: 2.0422 - val_accuracy: 0.3013\n",
            "Epoch 2/30\n",
            "188/188 [==============================] - 12s 64ms/step - loss: 1.9044 - accuracy: 0.3363 - val_loss: 1.7398 - val_accuracy: 0.4073\n",
            "Epoch 3/30\n",
            "188/188 [==============================] - 12s 64ms/step - loss: 1.6953 - accuracy: 0.4107 - val_loss: 1.5996 - val_accuracy: 0.4393\n",
            "Epoch 4/30\n",
            "188/188 [==============================] - 12s 64ms/step - loss: 1.5768 - accuracy: 0.4522 - val_loss: 1.5055 - val_accuracy: 0.4833\n",
            "Epoch 5/30\n",
            "188/188 [==============================] - 12s 64ms/step - loss: 1.4902 - accuracy: 0.4807 - val_loss: 1.4350 - val_accuracy: 0.4973\n",
            "Epoch 6/30\n",
            "188/188 [==============================] - 12s 64ms/step - loss: 1.4304 - accuracy: 0.4986 - val_loss: 1.3973 - val_accuracy: 0.5067\n",
            "Epoch 7/30\n",
            "188/188 [==============================] - 12s 64ms/step - loss: 1.3675 - accuracy: 0.5216 - val_loss: 1.3284 - val_accuracy: 0.5307\n",
            "Epoch 8/30\n",
            "188/188 [==============================] - 12s 65ms/step - loss: 1.3462 - accuracy: 0.5286 - val_loss: 1.2859 - val_accuracy: 0.5473\n",
            "Epoch 9/30\n",
            "188/188 [==============================] - 12s 64ms/step - loss: 1.2861 - accuracy: 0.5576 - val_loss: 1.2673 - val_accuracy: 0.5520\n",
            "Epoch 10/30\n",
            "188/188 [==============================] - 12s 63ms/step - loss: 1.2486 - accuracy: 0.5634 - val_loss: 1.2393 - val_accuracy: 0.5553\n",
            "Epoch 11/30\n",
            "188/188 [==============================] - 12s 63ms/step - loss: 1.2257 - accuracy: 0.5770 - val_loss: 1.2260 - val_accuracy: 0.5613\n",
            "Epoch 12/30\n",
            "188/188 [==============================] - 12s 63ms/step - loss: 1.2153 - accuracy: 0.5763 - val_loss: 1.2102 - val_accuracy: 0.5707\n",
            "Epoch 13/30\n",
            "188/188 [==============================] - 12s 63ms/step - loss: 1.1721 - accuracy: 0.6021 - val_loss: 1.2451 - val_accuracy: 0.5553\n",
            "Epoch 14/30\n",
            "188/188 [==============================] - 12s 63ms/step - loss: 1.1451 - accuracy: 0.6061 - val_loss: 1.1979 - val_accuracy: 0.5780\n",
            "Epoch 15/30\n",
            "188/188 [==============================] - 12s 65ms/step - loss: 1.1165 - accuracy: 0.6135 - val_loss: 1.1645 - val_accuracy: 0.5960\n",
            "Epoch 16/30\n",
            "188/188 [==============================] - 12s 64ms/step - loss: 1.1071 - accuracy: 0.6196 - val_loss: 1.1878 - val_accuracy: 0.5827\n",
            "Epoch 17/30\n",
            "188/188 [==============================] - 12s 65ms/step - loss: 1.0993 - accuracy: 0.6221 - val_loss: 1.1516 - val_accuracy: 0.5853\n",
            "Epoch 18/30\n",
            "188/188 [==============================] - 12s 63ms/step - loss: 1.0841 - accuracy: 0.6268 - val_loss: 1.1503 - val_accuracy: 0.5987\n",
            "Epoch 19/30\n",
            "188/188 [==============================] - 12s 63ms/step - loss: 1.0417 - accuracy: 0.6450 - val_loss: 1.1209 - val_accuracy: 0.6040\n",
            "Epoch 20/30\n",
            "188/188 [==============================] - 12s 63ms/step - loss: 1.0251 - accuracy: 0.6522 - val_loss: 1.1213 - val_accuracy: 0.5993\n",
            "Epoch 21/30\n",
            "188/188 [==============================] - 12s 64ms/step - loss: 1.0060 - accuracy: 0.6598 - val_loss: 1.1494 - val_accuracy: 0.6020\n",
            "Epoch 22/30\n",
            "188/188 [==============================] - 12s 64ms/step - loss: 0.9968 - accuracy: 0.6620 - val_loss: 1.1215 - val_accuracy: 0.6047\n",
            "Epoch 23/30\n",
            "188/188 [==============================] - 12s 63ms/step - loss: 0.9569 - accuracy: 0.6722 - val_loss: 1.0865 - val_accuracy: 0.6187\n",
            "Epoch 24/30\n",
            "188/188 [==============================] - 12s 64ms/step - loss: 0.9432 - accuracy: 0.6780 - val_loss: 1.0832 - val_accuracy: 0.6240\n",
            "Epoch 25/30\n",
            "188/188 [==============================] - 12s 63ms/step - loss: 0.9224 - accuracy: 0.6838 - val_loss: 1.0838 - val_accuracy: 0.6220\n",
            "Epoch 26/30\n",
            "188/188 [==============================] - 12s 63ms/step - loss: 0.9147 - accuracy: 0.6903 - val_loss: 1.0754 - val_accuracy: 0.6193\n",
            "Epoch 27/30\n",
            "188/188 [==============================] - 12s 63ms/step - loss: 0.8912 - accuracy: 0.6905 - val_loss: 1.0809 - val_accuracy: 0.6307\n",
            "Epoch 28/30\n",
            "188/188 [==============================] - 12s 64ms/step - loss: 0.9432 - accuracy: 0.6808 - val_loss: 1.0887 - val_accuracy: 0.6313\n",
            "Epoch 29/30\n",
            "188/188 [==============================] - 12s 65ms/step - loss: 0.9493 - accuracy: 0.6765 - val_loss: 1.0697 - val_accuracy: 0.6240\n",
            "Epoch 30/30\n",
            "188/188 [==============================] - 12s 63ms/step - loss: 0.8738 - accuracy: 0.7040 - val_loss: 1.0220 - val_accuracy: 0.6547\n"
          ]
        },
        {
          "output_type": "display_data",
          "data": {
            "text/plain": [
              "<Figure size 432x288 with 2 Axes>"
            ],
            "image/png": "[encoded data removed]"
          },
          "metadata": {
            "needs_background": "light"
          }
        },
        {
          "output_type": "stream",
          "name": "stdout",
          "text": [
            "79/79 - 2s - loss: 1.1056 - accuracy: 0.6202 - 2s/epoch - 20ms/step\n",
            "\n",
            "Test accuracy: 0.6202480792999268\n"
          ]
        }
      ]
    },
    {
      "cell_type": "code",
      "source": [
        "model.save('Music classification')"
      ],
      "metadata": {
        "id": "LeTxjSPtCZhc",
        "colab": {
          "base_uri": "https://localhost:8080/"
        },
        "outputId": "f74818cc-ac28-422e-8a75-41c4e3598e46"
      },
      "execution_count": null,
      "outputs": [
        {
          "output_type": "stream",
          "name": "stderr",
          "text": [
            "WARNING:absl:Found untraced functions such as lstm_cell_layer_call_fn, lstm_cell_layer_call_and_return_conditional_losses, lstm_cell_1_layer_call_fn, lstm_cell_1_layer_call_and_return_conditional_losses while saving (showing 4 of 4). These functions will not be directly callable after loading.\n"
          ]
        },
        {
          "output_type": "stream",
          "name": "stdout",
          "text": [
            "INFO:tensorflow:Assets written to: Music classification/assets\n"
          ]
        },
        {
          "output_type": "stream",
          "name": "stderr",
          "text": [
            "INFO:tensorflow:Assets written to: Music classification/assets\n",
            "WARNING:absl:<keras.layers.recurrent.LSTMCell object at 0x7f7d6fa59750> has the same name 'LSTMCell' as a built-in Keras object. Consider renaming <class 'keras.layers.recurrent.LSTMCell'> to avoid naming conflicts when loading with `tf.keras.models.load_model`. If renaming is not possible, pass the object in the `custom_objects` parameter of the load function.\n",
            "WARNING:absl:<keras.layers.recurrent.LSTMCell object at 0x7f7d6076d710> has the same name 'LSTMCell' as a built-in Keras object. Consider renaming <class 'keras.layers.recurrent.LSTMCell'> to avoid naming conflicts when loading with `tf.keras.models.load_model`. If renaming is not possible, pass the object in the `custom_objects` parameter of the load function.\n"
          ]
        }
      ]
    },
    {
      "cell_type": "code",
      "source": [
        "def predict(model, X, y):\n",
        "  \n",
        "   \n",
        "    X = X[np.newaxis, ...] # array shape (1, 130, 13, 1)\n",
        "\n",
        "    \n",
        "    prediction = model.predict(X)\n",
        "\n",
        "  \n",
        "    predicted_index = np.argmax(prediction, axis=1)\n",
        "\n",
        "    print(\"Target: {}, Predicted label: {}\".format(y, predicted_index))"
      ],
      "metadata": {
        "id": "5m_WF4YdKUqG"
      },
      "execution_count": null,
      "outputs": []
    },
    {
      "cell_type": "code",
      "source": [
        "    X_to_predict = X_test[100]\n",
        "    y_to_predict = y_test[100]\n",
        "\n",
        "    # predict sample\n",
        "    predict(model, X_to_predict, y_to_predict)\n"
      ],
      "metadata": {
        "colab": {
          "base_uri": "https://localhost:8080/"
        },
        "id": "zNCDzHRCJ_m-",
        "outputId": "bf1abc35-a32c-4a97-de6c-5989197a30db"
      },
      "execution_count": null,
      "outputs": [
        {
          "output_type": "stream",
          "name": "stdout",
          "text": [
            "Target: 7, Predicted label: [7]\n"
          ]
        }
      ]
    }
  ]
}